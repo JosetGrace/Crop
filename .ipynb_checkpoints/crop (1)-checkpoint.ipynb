{
 "cells": [
  {
   "cell_type": "markdown",
   "id": "1b02829b-e718-4c67-b74d-e63503953494",
   "metadata": {},
   "source": [
    "# Crop Recommendation System\n",
    " Abubakar Abdulkadir (2023)"
   ]
  },
  {
   "cell_type": "markdown",
   "id": "7a6c9bb7-fd09-4f6d-b62c-7bb2d7eca38f",
   "metadata": {},
   "source": [
    "<img src='images/crop.jpg' />"
   ]
  },
  {
   "cell_type": "markdown",
   "id": "bae9a4ad-4035-430b-ad01-e725217c85b4",
   "metadata": {},
   "source": [
    "## INTRODUCTION>"
   ]
  },
  {
   "cell_type": "markdown",
   "id": "50abe715-719b-419c-b90b-a23db776ff83",
   "metadata": {},
   "source": [
    "Different crops require different conditions to grow optimally. Some crops will prefer conditions which might have been considered harsh to others. The ability to tell which crop will grow better in what condition and environmental factor is invaluable to improving agricultural yields.\n",
    "\n",
    "In this project, we considered developing a classification system to predict optimall crops to be grown based on the environmental conditions and nutrient level of the soil. We explored the dataset, cleaned it, then created several classification models to select the best performing one.\n",
    "\n",
    "This phase, represents the model creation phase of the vnicom hands-on project. At the end of this project. We intend to host it as an API for consumption."
   ]
  },
  {
   "cell_type": "markdown",
   "id": "8b885939-6993-4516-b74e-0c040f6453f9",
   "metadata": {},
   "source": [
    "## IMPORT PACKAGES"
   ]
  },
  {
   "cell_type": "code",
   "execution_count": 3,
   "id": "3c04fb37-ba95-400d-8f30-a035ca8bce02",
   "metadata": {},
   "outputs": [],
   "source": [
    "# data loading and manipulation libraries\n",
    "import pandas as pd\n",
    "import numpy as np\n",
    "\n",
    "# data modelling \n",
    "\n",
    "\n",
    "# model evaluation\n",
    "\n",
    "# data visualization\n",
    "import matplotlib.pyplot as plt\n",
    "import seaborn as sns\n"
   ]
  },
  {
   "cell_type": "markdown",
   "id": "18ca1633-ec2e-4118-93db-c67c14ffc1f7",
   "metadata": {},
   "source": [
    "In this project, the major language is python with its machine learning libraries sklearn, pandas, numpy and matplotlib."
   ]
  },
  {
   "cell_type": "markdown",
   "id": "1d004b29-f9aa-4e91-912a-c5a43a8cda18",
   "metadata": {},
   "source": [
    "## IMPORT DATASETS"
   ]
  },
  {
   "cell_type": "code",
   "execution_count": 6,
   "id": "ef4c38ba-04ee-4dad-87a1-d1f9f314fc1d",
   "metadata": {},
   "outputs": [],
   "source": [
    "df = pd.read_csv('datasets/Crop_recommendation.csv')"
   ]
  },
  {
   "cell_type": "markdown",
   "id": "d1c5b4b2-cc94-4ba6-b606-32cbba3d2e00",
   "metadata": {},
   "source": [
    "The crop recommendation dataset was gotten from <a href='https://www.kaggle.com/datasets/aksahaha/crop-recommendation'> kaggle </a>. The dataset is download and placed inside the dataset directory of this project. "
   ]
  },
  {
   "cell_type": "markdown",
   "id": "85fa567e-c3ec-43a2-9a5b-f20d96a20582",
   "metadata": {},
   "source": [
    "## EXPLORATORY DATA ANALYSIS (EDA)"
   ]
  },
  {
   "cell_type": "markdown",
   "id": "a773e2cc-b7fa-4429-adec-0fbb435607b6",
   "metadata": {},
   "source": [
    "In this phase of the project, the dataset was analyzed and investigated to summarize their main characteristics. It helps determine how best to manipulate the dataset to achieve optimal model performance by leveraging the dataset patterns, spoting and handling anomalies, testinghypothesis, or checking assumptions."
   ]
  },
  {
   "cell_type": "markdown",
   "id": "4259df8e-939d-4738-9907-0637b3bc5b71",
   "metadata": {},
   "source": [
    "### Brief Overview"
   ]
  },
  {
   "cell_type": "code",
   "execution_count": 7,
   "id": "c97864f1-2236-49e3-a8c8-675079f790ae",
   "metadata": {},
   "outputs": [
    {
     "data": {
      "text/html": [
       "<div>\n",
       "<style scoped>\n",
       "    .dataframe tbody tr th:only-of-type {\n",
       "        vertical-align: middle;\n",
       "    }\n",
       "\n",
       "    .dataframe tbody tr th {\n",
       "        vertical-align: top;\n",
       "    }\n",
       "\n",
       "    .dataframe thead th {\n",
       "        text-align: right;\n",
       "    }\n",
       "</style>\n",
       "<table border=\"1\" class=\"dataframe\">\n",
       "  <thead>\n",
       "    <tr style=\"text-align: right;\">\n",
       "      <th></th>\n",
       "      <th>Nitrogen</th>\n",
       "      <th>phosphorus</th>\n",
       "      <th>potassium</th>\n",
       "      <th>temperature</th>\n",
       "      <th>humidity</th>\n",
       "      <th>ph</th>\n",
       "      <th>rainfall</th>\n",
       "      <th>label</th>\n",
       "      <th>Unnamed: 8</th>\n",
       "      <th>Unnamed: 9</th>\n",
       "    </tr>\n",
       "  </thead>\n",
       "  <tbody>\n",
       "    <tr>\n",
       "      <th>0</th>\n",
       "      <td>90</td>\n",
       "      <td>42</td>\n",
       "      <td>43</td>\n",
       "      <td>20.879744</td>\n",
       "      <td>82.002744</td>\n",
       "      <td>6.502985</td>\n",
       "      <td>202.935536</td>\n",
       "      <td>rice</td>\n",
       "      <td>NaN</td>\n",
       "      <td>NaN</td>\n",
       "    </tr>\n",
       "    <tr>\n",
       "      <th>1</th>\n",
       "      <td>85</td>\n",
       "      <td>58</td>\n",
       "      <td>41</td>\n",
       "      <td>21.770462</td>\n",
       "      <td>80.319644</td>\n",
       "      <td>7.038096</td>\n",
       "      <td>226.655537</td>\n",
       "      <td>rice</td>\n",
       "      <td>NaN</td>\n",
       "      <td>NaN</td>\n",
       "    </tr>\n",
       "    <tr>\n",
       "      <th>2</th>\n",
       "      <td>60</td>\n",
       "      <td>55</td>\n",
       "      <td>44</td>\n",
       "      <td>23.004459</td>\n",
       "      <td>82.320763</td>\n",
       "      <td>7.840207</td>\n",
       "      <td>263.964248</td>\n",
       "      <td>rice</td>\n",
       "      <td>NaN</td>\n",
       "      <td>NaN</td>\n",
       "    </tr>\n",
       "    <tr>\n",
       "      <th>3</th>\n",
       "      <td>74</td>\n",
       "      <td>35</td>\n",
       "      <td>40</td>\n",
       "      <td>26.491096</td>\n",
       "      <td>80.158363</td>\n",
       "      <td>6.980401</td>\n",
       "      <td>242.864034</td>\n",
       "      <td>rice</td>\n",
       "      <td>NaN</td>\n",
       "      <td>NaN</td>\n",
       "    </tr>\n",
       "    <tr>\n",
       "      <th>4</th>\n",
       "      <td>78</td>\n",
       "      <td>42</td>\n",
       "      <td>42</td>\n",
       "      <td>20.130175</td>\n",
       "      <td>81.604873</td>\n",
       "      <td>7.628473</td>\n",
       "      <td>262.717340</td>\n",
       "      <td>rice</td>\n",
       "      <td>NaN</td>\n",
       "      <td>NaN</td>\n",
       "    </tr>\n",
       "  </tbody>\n",
       "</table>\n",
       "</div>"
      ],
      "text/plain": [
       "   Nitrogen  phosphorus  potassium  temperature   humidity        ph  \\\n",
       "0        90          42         43    20.879744  82.002744  6.502985   \n",
       "1        85          58         41    21.770462  80.319644  7.038096   \n",
       "2        60          55         44    23.004459  82.320763  7.840207   \n",
       "3        74          35         40    26.491096  80.158363  6.980401   \n",
       "4        78          42         42    20.130175  81.604873  7.628473   \n",
       "\n",
       "     rainfall label  Unnamed: 8  Unnamed: 9  \n",
       "0  202.935536  rice         NaN         NaN  \n",
       "1  226.655537  rice         NaN         NaN  \n",
       "2  263.964248  rice         NaN         NaN  \n",
       "3  242.864034  rice         NaN         NaN  \n",
       "4  262.717340  rice         NaN         NaN  "
      ]
     },
     "execution_count": 7,
     "metadata": {},
     "output_type": "execute_result"
    }
   ],
   "source": [
    "df.head()"
   ]
  },
  {
   "cell_type": "code",
   "execution_count": 8,
   "id": "4d9e3fac-0488-4666-9bc3-ae39ce140b93",
   "metadata": {},
   "outputs": [
    {
     "name": "stdout",
     "output_type": "stream",
     "text": [
      "<class 'pandas.core.frame.DataFrame'>\n",
      "RangeIndex: 2200 entries, 0 to 2199\n",
      "Data columns (total 10 columns):\n",
      " #   Column       Non-Null Count  Dtype  \n",
      "---  ------       --------------  -----  \n",
      " 0   Nitrogen     2200 non-null   int64  \n",
      " 1   phosphorus   2200 non-null   int64  \n",
      " 2   potassium    2200 non-null   int64  \n",
      " 3   temperature  2200 non-null   float64\n",
      " 4   humidity     2200 non-null   float64\n",
      " 5   ph           2200 non-null   float64\n",
      " 6   rainfall     2200 non-null   float64\n",
      " 7   label        2200 non-null   object \n",
      " 8   Unnamed: 8   0 non-null      float64\n",
      " 9   Unnamed: 9   0 non-null      float64\n",
      "dtypes: float64(6), int64(3), object(1)\n",
      "memory usage: 172.0+ KB\n"
     ]
    }
   ],
   "source": [
    "df.info()"
   ]
  },
  {
   "cell_type": "markdown",
   "id": "3e6655ad-3f17-4887-af80-803f8a849fa1",
   "metadata": {},
   "source": [
    "The dataset has 10 columns with 2200 entries. It contains all the independent variables as numerical with only the 'label' variable which is the target variable as object. The dataset also contains two unnammed variables which contains no values. \n",
    "\n",
    "###### suggestions for preprocessing\n",
    "- drop the Unnamed variables\n",
    "- Encode the label variable to numerical using label Encoder"
   ]
  }
 ],
 "metadata": {
  "kernelspec": {
   "display_name": "Python 3 (ipykernel)",
   "language": "python",
   "name": "python3"
  },
  "language_info": {
   "codemirror_mode": {
    "name": "ipython",
    "version": 3
   },
   "file_extension": ".py",
   "mimetype": "text/x-python",
   "name": "python",
   "nbconvert_exporter": "python",
   "pygments_lexer": "ipython3",
   "version": "3.8.0"
  }
 },
 "nbformat": 4,
 "nbformat_minor": 5
}
